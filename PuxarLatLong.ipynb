{
  "nbformat": 4,
  "nbformat_minor": 0,
  "metadata": {
    "colab": {
      "name": "PuxarLatLong.ipynb",
      "provenance": [],
      "collapsed_sections": [],
      "include_colab_link": true
    },
    "kernelspec": {
      "name": "python3",
      "display_name": "Python 3"
    },
    "language_info": {
      "name": "python"
    }
  },
  "cells": [
    {
      "cell_type": "markdown",
      "metadata": {
        "id": "view-in-github",
        "colab_type": "text"
      },
      "source": [
        "<a href=\"https://colab.research.google.com/github/maycofabricio/georeferenciamento/blob/main/PuxarLatLong.ipynb\" target=\"_parent\"><img src=\"https://colab.research.google.com/assets/colab-badge.svg\" alt=\"Open In Colab\"/></a>"
      ]
    },
    {
      "cell_type": "code",
      "source": [
        "#Código desenvolvido para atender a demanda do Lino:\n",
        "#Responsáveis: Danilo Brito e Mayco Fabricio\n",
        "#Data do desenvolvimento: 27/05/2022\n",
        "#Data última atualização: 27/05/2022\n",
        "#Última atualização: Mayco\n",
        "\n",
        "#Antes de iniciar verificar se as bibliotecas estão instaladas: Pandas, GeoPy\n",
        "#!pip install pandas\n",
        "#!pip install geopy\n",
        "\n",
        "\n",
        "#1) Executar o processo de ETL:\n",
        "\n",
        "#1.1) Abaixo é a EXTRAÇÃO:\n",
        "from geopy.geocoders import Nominatim\n",
        "import pandas as pd\n",
        "geolocator = Nominatim(user_agent=\"danilobritoturismo53@gmail.com\") #qualquer coisa alterar com o usuário logado no COLAB!\n",
        "listaendereco = pd.read_excel('/content/drive/MyDrive/LAT.LONG/ENDEREÇOS.xlsx') # <<---Deve ser alterado sempre em uma pasta do drive do usuário logado\n",
        "\n",
        "#1.2) Abaixo é o TRATAMENTO:\n",
        "listafiltrada = listaendereco\n",
        "from geopy.extra.rate_limiter import RateLimiter\n",
        "geocode = RateLimiter(geolocator.geocode, min_delay_seconds=1)\n",
        "listafiltrada['ENDERECO_FORNECEDOR_GEOLOCALIZADO'] = listafiltrada['ENDERECO_FORNECEDOR'].apply(geocode)\n",
        "listafiltrada['ENDERECO_LATITUDE'] = listafiltrada['ENDERECO_FORNECEDOR_GEOLOCALIZADO'].apply(lambda loc: loc.latitude if loc else None)\n",
        "listafiltrada['ENDERECO_LONGITUDE'] = listafiltrada['ENDERECO_FORNECEDOR_GEOLOCALIZADO'].apply(lambda loc: loc.longitude if loc else None)\n",
        "\n",
        "#1.3) Abaixo é o LOADING do arquivo:\n",
        "qtdade_linhas = listafiltrada['CODIGO'].count()\n",
        "naoencontrados = listafiltrada.ENDERECO_FORNECEDOR_GEOLOCALIZADO.isna().sum()\n",
        "listafiltrada_x = listafiltrada[listafiltrada.ENDERECO_FORNECEDOR_GEOLOCALIZADO.isna()]\n",
        "print('Não encontrados:')\n",
        "print(naoencontrados)\n",
        "print('{:.2%}'.format(naoencontrados / qtdade_linhas))\n",
        "\n",
        "#2) Baixar o Arquivo XLSX carregado na pasta onde está este executável:\n",
        "listafiltrada.to_excel('listalatlong.xlsx')\n"
      ],
      "metadata": {
        "id": "TZWkSufs4uSh"
      },
      "execution_count": null,
      "outputs": []
    },
    {
      "cell_type": "code",
      "source": [
        ""
      ],
      "metadata": {
        "id": "5mvMwL9HqWxp"
      },
      "execution_count": null,
      "outputs": []
    }
  ]
}